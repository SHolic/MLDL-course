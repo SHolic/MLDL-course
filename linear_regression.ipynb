{
  "nbformat": 4,
  "nbformat_minor": 0,
  "metadata": {
    "colab": {
      "provenance": []
    },
    "kernelspec": {
      "name": "python3",
      "display_name": "Python 3"
    },
    "language_info": {
      "name": "python"
    }
  },
  "cells": [
    {
      "cell_type": "markdown",
      "source": [
        "# CPSC5616: Linear Regression\n",
        "\n",
        "Here's a simple linear regression example in Python using sklearn:\n",
        "\n",
        "LinearRegression from sklearn.linear_model is a method to perform linear regression (uses the Ordinary Least Squares (OLS) method, which solves the linear regression problem analytically using the Normal Equation)"
      ],
      "metadata": {
        "id": "FK0_gkMYatuc"
      }
    },
    {
      "cell_type": "code",
      "execution_count": null,
      "metadata": {
        "colab": {
          "base_uri": "https://localhost:8080/",
          "height": 499
        },
        "id": "AJmtk-nparOJ",
        "outputId": "ef19358c-f053-4049-b734-5168e0224b19"
      },
      "outputs": [
        {
          "output_type": "stream",
          "name": "stdout",
          "text": [
            "Parameters: [1.9802119] 1.1300285441478302\n",
            "Coefficient/slope: 1.9802\n",
            "Intercept: 1.1300\n",
            "The predicted y is 14.00 when x is 6.50\n"
          ]
        },
        {
          "output_type": "display_data",
          "data": {
            "text/plain": [
              "<Figure size 640x480 with 1 Axes>"
            ],
            "image/png": "[encoded data removed]"
          },
          "metadata": {}
        }
      ],
      "source": [
        "from pickle import NEWOBJ_EX\n",
        "# Import necessary libraries\n",
        "import numpy as np\n",
        "import matplotlib.pyplot as plt\n",
        "from sklearn.linear_model import LinearRegression\n",
        "\n",
        "# Set a random seed for reproducibility\n",
        "np.random.seed(8)\n",
        "\n",
        "# Generate synthetic data\n",
        "n = 50   # Number of data points\n",
        "x = np.linspace(0, 10, n)               # Linearly spaced set of n numbers between 0 and 10\n",
        "y = x*2 + 1 + 1*np.random.randn(n)      # Generate y values using the equation y = 2x + 1 + Gaussian noise (normal distribution)\n",
        "plt.plot(x, y, 'o')                     # Plot the original data points as blue circles\n",
        "\n",
        "# Initialize and fit a linear regression model to the data\n",
        "model = LinearRegression(fit_intercept=True)  # Create a linear regression model instance with intercept\n",
        "\"\"\"\n",
        "Many functions and methods in libraries like scikit-learn expect input features\n",
        "to be in a two-dimensional array where each row is a sample and each column is a feature.\n",
        "Even if you have just one feature (as in this linear regression example),\n",
        "it still needs to be provided in a 2D array format with one column.\n",
        "That's why reshaping the 1D array x into a 2D array x[:, np.newaxis] is necessary.\n",
        "\"\"\"\n",
        "model.fit(x[:, np.newaxis], y)                # Fit the model using x as the predictor and y as the response\n",
        "\n",
        "xfit = np.linspace(0, 10, 10)                     # New set of x values for prediction, so that we could draw the y\n",
        "yfit = model.predict(xfit[:, np.newaxis])          # Predict y values for the new x values based on the model\n",
        "plt.plot(xfit, yfit, 'o')\n",
        "\n",
        "plt.plot(xfit, yfit, color=\"black\")     # Plot the predicted line in black\n",
        "# Draw red line segments from each data point to the regression line, showing residuals\n",
        "plt.plot(np.vstack([x,x]), np.vstack([y, model.predict(x[:, np.newaxis])]), color=\"red\")\n",
        "\n",
        "# Print the model's parameters\n",
        "print(\"Parameters:\", model.coef_, model.intercept_)\n",
        "print(f\"Coefficient/slope: {model.coef_[0]:.4f}\")\n",
        "print(f\"Intercept: {model.intercept_:.4f}\")\n",
        "\n",
        "new_x= 6.5\n",
        "pred_y = new_x*model.coef_[0]+model.intercept_\n",
        "print(f\"The predicted y is {pred_y:.2f} when x is {new_x:.2f}\")\n",
        "plt.show()\n"
      ]
    },
    {
      "cell_type": "markdown",
      "source": [
        "In this case, the coefficient is the slope of the fitted line, and the intercept is the point where the fitted line intersects with the y-axis."
      ],
      "metadata": {
        "id": "3MGvDYWUO9Q9"
      }
    },
    {
      "cell_type": "markdown",
      "source": [
        "# Evaluate the model with metrics commonly used"
      ],
      "metadata": {
        "id": "WmtdeYegNGTX"
      }
    },
    {
      "cell_type": "markdown",
      "source": [
        "**The Mean Squared Error (MSE)** measures the average squared difference between the observed actual outcomes and the outcomes predicted by the model. Smaller MSE values indicate a better fit to the data, but this metric can be scale-dependent. Larger errors are penalized more than smaller ones. This makes models sensitive to outliers\n",
        "\n",
        "**The R-squared** (coefficient of determination) value represents the proportion of the variance in the dependent variable that is predictable from the independent variable. It provides a measure of how well observed outcomes are replicated by the model. An R-squared value of 1 indicates that the regression predictions perfectly fit the data.\n",
        "\n",
        "**Root Mean Squared Error (RMSE)** is the square root of the MSE. It has the benefit of being in the **same units as the target variable**, which can sometimes make it more interpretable than the MSE.\n",
        "\n",
        "**Mean Absolute Error (MAE)**: This is the average of the absolute differences between the predicted and actual values. It provides a linear penalty for each unit of difference, rather than the squared penalty of the MSE."
      ],
      "metadata": {
        "id": "CGPyUwIwNSKk"
      }
    },
    {
      "cell_type": "markdown",
      "source": [],
      "metadata": {
        "id": "RgK8vlzANStY"
      }
    },
    {
      "cell_type": "code",
      "source": [
        "from sklearn.metrics import mean_squared_error, mean_absolute_error\n",
        "\n",
        "y_pred = model.predict(x[:, np.newaxis])    # Predicted y values for the original x values\n",
        "mse = mean_squared_error(y, y_pred)\n",
        "print(f\"Mean Squared Error (MSE): {mse:.4f}\")\n",
        "\n",
        "r2 = model.score(x[:, np.newaxis], y)\n",
        "print(f\"R-squared: {r2:.4f}\")\n",
        "\n",
        "rmse = np.sqrt(mse)    # Compute RMSE from the MSE\n",
        "print(f\"Root Mean Squared Error (RMSE): {rmse:.4f}\")\n",
        "\n",
        "mae = mean_absolute_error(y, y_pred)\n",
        "print(f\"Mean Absolute Error (MAE): {mae:.4f}\")"
      ],
      "metadata": {
        "colab": {
          "base_uri": "https://localhost:8080/"
        },
        "id": "t06lBBNNJROU",
        "outputId": "bf53cd9e-71b0-4249-9a5f-ee86fd78a4d3"
      },
      "execution_count": null,
      "outputs": [
        {
          "output_type": "stream",
          "name": "stdout",
          "text": [
            "Mean Squared Error (MSE): 1.2756\n",
            "R-squared: 0.9638\n",
            "Mean Squared Error (MSE): 1.2756\n",
            "Root Mean Squared Error (RMSE): 1.1294\n",
            "Mean Absolute Error (MAE): 0.8750\n"
          ]
        }
      ]
    }
  ]
}