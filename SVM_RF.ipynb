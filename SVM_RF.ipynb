{
  "cells": [
    {
      "cell_type": "markdown",
      "metadata": {
        "id": "RIYmV4ZQ_HRT"
      },
      "source": [
        "# CPSC-5616: SVM and RF\n",
        "\n",
        "The following code shows the example of trains and evaluates SVM and Random Forest on the Iris dataset. It then provides performance metrics for both classifiers to enable a comparison of their efficacy.\n",
        "\n",
        "**Support Vector Machine (SVM) Classifier:**\n",
        "\n",
        "An SVM classifier with a linear kernel is initialized and trained on the standardized training data.\n",
        "Hyperparameters: `'C', 'kernel','gamma','degree'`\n",
        "\n",
        "**Random Forest Classifier:**\n",
        "\n",
        "A Random Forest classifier, consisting of an ensemble of decision trees, is initialized with 100 trees and trained on the standardized training data.\n",
        "Hyperparameters: `'n_estimators', 'max_features','max_depth', 'min_samples_split', and 'min_samples_leaf'`\n",
        "\n",
        "`TODO: Refer to the PyTorch documentation and try with various hyperparameters`"
      ]
    },
    {
      "cell_type": "code",
      "execution_count": null,
      "metadata": {
        "colab": {
          "base_uri": "https://localhost:8080/"
        },
        "id": "y25u3PEd9snu",
        "outputId": "a8520899-5b19-497b-af1b-58dee41588bb"
      },
      "outputs": [
        {
          "output_type": "stream",
          "name": "stdout",
          "text": [
            "SVM Accuracy: 0.9666666666666667\n",
            "SVM Classification Report:\n",
            "               precision    recall  f1-score   support\n",
            "\n",
            "           0       1.00      1.00      1.00        10\n",
            "           1       1.00      0.89      0.94         9\n",
            "           2       0.92      1.00      0.96        11\n",
            "\n",
            "    accuracy                           0.97        30\n",
            "   macro avg       0.97      0.96      0.97        30\n",
            "weighted avg       0.97      0.97      0.97        30\n",
            "\n",
            "Random Forest Accuracy: 1.0\n",
            "Random Forest Classification Report:\n",
            "               precision    recall  f1-score   support\n",
            "\n",
            "           0       1.00      1.00      1.00        10\n",
            "           1       1.00      1.00      1.00         9\n",
            "           2       1.00      1.00      1.00        11\n",
            "\n",
            "    accuracy                           1.00        30\n",
            "   macro avg       1.00      1.00      1.00        30\n",
            "weighted avg       1.00      1.00      1.00        30\n",
            "\n"
          ]
        }
      ],
      "source": [
        "# Import necessary libraries and modules\n",
        "import numpy as np\n",
        "from sklearn import datasets\n",
        "from sklearn.model_selection import train_test_split\n",
        "from sklearn.preprocessing import StandardScaler\n",
        "from sklearn.svm import SVC\n",
        "from sklearn.ensemble import RandomForestClassifier\n",
        "from sklearn.metrics import accuracy_score, classification_report\n",
        "\n",
        "# Load the Iris dataset - a popular dataset for classification, consisting of 3 classes of iris plants\n",
        "iris = datasets.load_iris()\n",
        "X = iris.data          # Features of the dataset (sepal and petal measurements)\n",
        "y = iris.target        # Target labels (species of iris)\n",
        "\n",
        "# Split the dataset into training and testing sets.\n",
        "# 80% of data will be used for training and 20% will be used for testing.\n",
        "X_train, X_test, y_train, y_test = train_test_split(X, y, test_size=0.2, random_state=42)\n",
        "\n",
        "# Feature scaling (standardization): This is done to bring all features to a similar scale.\n",
        "# StandardScaler standardizes features by removing the mean and scaling to unit variance.\n",
        "scaler = StandardScaler()\n",
        "\n",
        "# Fit the scaler on training data and transform it.\n",
        "X_train = scaler.fit_transform(X_train)\n",
        "\n",
        "# Transform the test data using the same scaler. It's important not to fit again to avoid data leakage.\n",
        "X_test = scaler.transform(X_test)\n",
        "\n",
        "# SVM Classifier: Support Vector Machine with a linear kernel.\n",
        "svm_model = SVC(kernel='linear', C=1)   # Initialize the SVM model with a linear kernel and C (regularization) value of 1.\n",
        "svm_model.fit(X_train, y_train)          # Train the SVM model on the training data.\n",
        "svm_predictions = svm_model.predict(X_test)  # Use the trained model to predict the labels of the test data.\n",
        "\n",
        "# Calculate the accuracy of the SVM model's predictions.\n",
        "svm_accuracy = accuracy_score(y_test, svm_predictions)\n",
        "\n",
        "# Generate a detailed classification report showing performance metrics for the SVM.\n",
        "svm_classification_report = classification_report(y_test, svm_predictions)\n",
        "\n",
        "# Display the SVM's accuracy and classification report.\n",
        "print(\"SVM Accuracy:\", svm_accuracy)\n",
        "print(\"SVM Classification Report:\\n\", svm_classification_report)\n",
        "\n",
        "\n",
        "# Random Forest Classifier: An ensemble of decision trees.\n",
        "rf_model = RandomForestClassifier(n_estimators=100, random_state=42)  # Initialize the Random Forest with 100 trees and a fixed random state for reproducibility.\n",
        "rf_model.fit(X_train, y_train)  # Train the Random Forest model on the training data.\n",
        "rf_predictions = rf_model.predict(X_test)  # Use the trained model to predict the labels of the test data.\n",
        "\n",
        "# Calculate the accuracy of the Random Forest model's predictions.\n",
        "rf_accuracy = accuracy_score(y_test, rf_predictions)\n",
        "\n",
        "# Generate a detailed classification report showing performance metrics for the Random Forest.\n",
        "rf_classification_report = classification_report(y_test, rf_predictions)\n",
        "\n",
        "# Display the Random Forest's accuracy and classification report.\n",
        "print(\"Random Forest Accuracy:\", rf_accuracy)\n",
        "print(\"Random Forest Classification Report:\\n\", rf_classification_report)\n"
      ]
    }
  ],
  "metadata": {
    "colab": {
      "provenance": []
    },
    "kernelspec": {
      "display_name": "Python 3",
      "name": "python3"
    },
    "language_info": {
      "name": "python"
    }
  },
  "nbformat": 4,
  "nbformat_minor": 0
}