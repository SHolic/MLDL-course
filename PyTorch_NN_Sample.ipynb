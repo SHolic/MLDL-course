{
  "nbformat": 4,
  "nbformat_minor": 0,
  "metadata": {
    "colab": {
      "provenance": [],
      "gpuType": "T4"
    },
    "kernelspec": {
      "name": "python3",
      "display_name": "Python 3"
    },
    "language_info": {
      "name": "python"
    },
    "accelerator": "GPU"
  },
  "cells": [
    {
      "cell_type": "markdown",
      "source": [],
      "metadata": {
        "id": "IgIWUv9fRklM"
      }
    },
    {
      "cell_type": "markdown",
      "source": [
        "## CPSC: 5616EL - Using PyTorch for NN\n",
        "\n",
        "## PyTorch: The Basics\n",
        "\n",
        "**Arrays are called tensors** in frameworks like TensorFlow and PyTorch, let's break down the terms:\n",
        "\n",
        "**Scalar**: This is just a single number. In tensor terms, this is a 0-dimensional tensor.\n",
        "\n",
        "**Vector**: An array of numbers. This is a 1-dimensional tensor.\n",
        "\n",
        "**Matrix**: A 2D array of numbers. This is a 2-dimensional tensor.\n",
        "\n",
        "Tensor (in the general sense): An N-dimensional array of numbers. When N=0, it's a scalar. When N=1, it's a vector. When N=2, it's a matrix.\n",
        "\n",
        "PyTorch allows you to dynamically define computational graphs. This is done by operating on PyTorch Tensor objects.\n",
        "\n",
        "https://pytorch.org/get-started/pytorch-2.0/\n",
        "\n"
      ],
      "metadata": {
        "id": "t5jUhOlURsyo"
      }
    },
    {
      "cell_type": "code",
      "source": [
        "# PyTorch library, which provides tensor computation and deep neural networks\n",
        "import torch\n",
        "# torchvision consists of popular datasets, model architectures, and common image transformations for computer vision tasks\n",
        "import torchvision\n",
        "import torch.nn as nn\n",
        "import torch.optim as optim\n",
        "import torchvision.transforms as transforms\n",
        "import matplotlib.pyplot as plt\n",
        "from sklearn.metrics import classification_report\n",
        "import numpy as np\n",
        "# Import tqdm, a library to show progress bars in Jupyter Notebooks\n",
        "from tqdm.notebook import tqdm\n",
        "print(torch.__version__)"
      ],
      "metadata": {
        "colab": {
          "base_uri": "https://localhost:8080/"
        },
        "id": "J6eBmhCNRsC1",
        "outputId": "7ebf9683-7345-4a8c-e709-642215d0387c"
      },
      "execution_count": null,
      "outputs": [
        {
          "output_type": "stream",
          "name": "stdout",
          "text": [
            "2.1.0+cu118\n"
          ]
        }
      ]
    },
    {
      "cell_type": "markdown",
      "source": [
        "A few other useful imports for debugging and visualizations."
      ],
      "metadata": {
        "id": "Zsd4bvSETHah"
      }
    },
    {
      "cell_type": "code",
      "source": [
        "!pip install ipdb\n",
        "!pip install torchviz\n",
        "!apt install graphviz\n",
        "import ipdb\n",
        "from torchviz import make_dot"
      ],
      "metadata": {
        "colab": {
          "base_uri": "https://localhost:8080/"
        },
        "id": "pFdozNyyTIJw",
        "outputId": "385d98c7-ba0a-4cae-b9e0-ead090583a91"
      },
      "execution_count": null,
      "outputs": [
        {
          "output_type": "stream",
          "name": "stdout",
          "text": [
            "Collecting ipdb\n",
            "  Downloading ipdb-0.13.13-py3-none-any.whl (12 kB)\n",
            "Requirement already satisfied: ipython>=7.31.1 in /usr/local/lib/python3.10/dist-packages (from ipdb) (7.34.0)\n",
            "Requirement already satisfied: tomli in /usr/local/lib/python3.10/dist-packages (from ipdb) (2.0.1)\n",
            "Requirement already satisfied: decorator in /usr/local/lib/python3.10/dist-packages (from ipdb) (4.4.2)\n",
            "Requirement already satisfied: setuptools>=18.5 in /usr/local/lib/python3.10/dist-packages (from ipython>=7.31.1->ipdb) (67.7.2)\n",
            "Collecting jedi>=0.16 (from ipython>=7.31.1->ipdb)\n",
            "  Downloading jedi-0.19.1-py2.py3-none-any.whl (1.6 MB)\n",
            "\u001b[2K     \u001b[90m━━━━━━━━━━━━━━━━━━━━━━━━━━━━━━━━━━━━━━━━\u001b[0m \u001b[32m1.6/1.6 MB\u001b[0m \u001b[31m9.4 MB/s\u001b[0m eta \u001b[36m0:00:00\u001b[0m\n",
            "\u001b[?25hRequirement already satisfied: pickleshare in /usr/local/lib/python3.10/dist-packages (from ipython>=7.31.1->ipdb) (0.7.5)\n",
            "Requirement already satisfied: traitlets>=4.2 in /usr/local/lib/python3.10/dist-packages (from ipython>=7.31.1->ipdb) (5.7.1)\n",
            "Requirement already satisfied: prompt-toolkit!=3.0.0,!=3.0.1,<3.1.0,>=2.0.0 in /usr/local/lib/python3.10/dist-packages (from ipython>=7.31.1->ipdb) (3.0.39)\n",
            "Requirement already satisfied: pygments in /usr/local/lib/python3.10/dist-packages (from ipython>=7.31.1->ipdb) (2.16.1)\n",
            "Requirement already satisfied: backcall in /usr/local/lib/python3.10/dist-packages (from ipython>=7.31.1->ipdb) (0.2.0)\n",
            "Requirement already satisfied: matplotlib-inline in /usr/local/lib/python3.10/dist-packages (from ipython>=7.31.1->ipdb) (0.1.6)\n",
            "Requirement already satisfied: pexpect>4.3 in /usr/local/lib/python3.10/dist-packages (from ipython>=7.31.1->ipdb) (4.8.0)\n",
            "Requirement already satisfied: parso<0.9.0,>=0.8.3 in /usr/local/lib/python3.10/dist-packages (from jedi>=0.16->ipython>=7.31.1->ipdb) (0.8.3)\n",
            "Requirement already satisfied: ptyprocess>=0.5 in /usr/local/lib/python3.10/dist-packages (from pexpect>4.3->ipython>=7.31.1->ipdb) (0.7.0)\n",
            "Requirement already satisfied: wcwidth in /usr/local/lib/python3.10/dist-packages (from prompt-toolkit!=3.0.0,!=3.0.1,<3.1.0,>=2.0.0->ipython>=7.31.1->ipdb) (0.2.8)\n",
            "Installing collected packages: jedi, ipdb\n",
            "Successfully installed ipdb-0.13.13 jedi-0.19.1\n",
            "Collecting torchviz\n",
            "  Downloading torchviz-0.0.2.tar.gz (4.9 kB)\n",
            "  Preparing metadata (setup.py) ... \u001b[?25l\u001b[?25hdone\n",
            "Requirement already satisfied: torch in /usr/local/lib/python3.10/dist-packages (from torchviz) (2.1.0+cu118)\n",
            "Requirement already satisfied: graphviz in /usr/local/lib/python3.10/dist-packages (from torchviz) (0.20.1)\n",
            "Requirement already satisfied: filelock in /usr/local/lib/python3.10/dist-packages (from torch->torchviz) (3.12.4)\n",
            "Requirement already satisfied: typing-extensions in /usr/local/lib/python3.10/dist-packages (from torch->torchviz) (4.5.0)\n",
            "Requirement already satisfied: sympy in /usr/local/lib/python3.10/dist-packages (from torch->torchviz) (1.12)\n",
            "Requirement already satisfied: networkx in /usr/local/lib/python3.10/dist-packages (from torch->torchviz) (3.2)\n",
            "Requirement already satisfied: jinja2 in /usr/local/lib/python3.10/dist-packages (from torch->torchviz) (3.1.2)\n",
            "Requirement already satisfied: fsspec in /usr/local/lib/python3.10/dist-packages (from torch->torchviz) (2023.6.0)\n",
            "Requirement already satisfied: triton==2.1.0 in /usr/local/lib/python3.10/dist-packages (from torch->torchviz) (2.1.0)\n",
            "Requirement already satisfied: MarkupSafe>=2.0 in /usr/local/lib/python3.10/dist-packages (from jinja2->torch->torchviz) (2.1.3)\n",
            "Requirement already satisfied: mpmath>=0.19 in /usr/local/lib/python3.10/dist-packages (from sympy->torch->torchviz) (1.3.0)\n",
            "Building wheels for collected packages: torchviz\n",
            "  Building wheel for torchviz (setup.py) ... \u001b[?25l\u001b[?25hdone\n",
            "  Created wheel for torchviz: filename=torchviz-0.0.2-py3-none-any.whl size=4130 sha256=6f6a2154562cefe9b539ceb9a57c721ca7e5766803f11845395123b37a4f1581\n",
            "  Stored in directory: /root/.cache/pip/wheels/4c/97/88/a02973217949e0db0c9f4346d154085f4725f99c4f15a87094\n",
            "Successfully built torchviz\n",
            "Installing collected packages: torchviz\n",
            "Successfully installed torchviz-0.0.2\n",
            "Reading package lists... Done\n",
            "Building dependency tree... Done\n",
            "Reading state information... Done\n",
            "graphviz is already the newest version (2.42.2-6).\n",
            "0 upgraded, 0 newly installed, 0 to remove and 19 not upgraded.\n"
          ]
        }
      ]
    },
    {
      "cell_type": "markdown",
      "source": [
        "Here is an example, where we work with the function\n",
        "\n",
        "$$f(x) = x^2 + 2x + 6$$\n",
        "\n",
        "Note how there is nothing special about this function in terms of PyTorch specific syntax, i.e. you could apply this to any object that implements the `**`, `*` and `+` operators.\n",
        "\n"
      ],
      "metadata": {
        "id": "LKz-MRuYSGG0"
      }
    },
    {
      "cell_type": "markdown",
      "metadata": {
        "id": "BD-uTSpZLGdP"
      },
      "source": [
        "We need to set `requires_grad` property to true. By default, during the forward pass, i.e. when evaluating f(x), an operation is recorded in the backward graph, only if at least one of its input tensors requires a gradient. By setting requires_grad=True, PyTorch tracks all operations on this tensor x so that you can compute gradients later. This tells PyTorch to keep track of the computation graph for this tensor, which is necessary for backpropagation."
      ]
    },
    {
      "cell_type": "code",
      "source": [
        "def f(x):\n",
        "    return x ** 2 + 2 * x + 6"
      ],
      "metadata": {
        "id": "fyOv1Q_9SGrf"
      },
      "execution_count": null,
      "outputs": []
    },
    {
      "cell_type": "markdown",
      "source": [
        "Now let's compute the derivative $$\\frac{d}{dx}\\bigg\\rvert_{x=4} f(x) = 2(4) + 2 = 10$$"
      ],
      "metadata": {
        "id": "s0XpG_6jSIXJ"
      }
    },
    {
      "cell_type": "code",
      "source": [
        "np_x = np.array([4.0])\n",
        "x = torch.from_numpy(np_x).requires_grad_(True) # Converts the NumPy array into a PyTorch tensor. Need to set requires_grad to True\n",
        "y = f(x) # based on the function we defined:  x ** 2 + 2 * x + 6\n",
        "\n",
        "y.backward() # backpropagation, PyTorch computes the gradient of y\n",
        "\n",
        "print(x.grad)  # This will print the gradient dy/dx at x = 4.0"
      ],
      "metadata": {
        "colab": {
          "base_uri": "https://localhost:8080/"
        },
        "id": "Ephc_9axSM3W",
        "outputId": "f18bb765-904a-4397-f418-e4bf6e38a03c"
      },
      "execution_count": null,
      "outputs": [
        {
          "output_type": "stream",
          "name": "stdout",
          "text": [
            "tensor([10.], dtype=torch.float64)\n"
          ]
        }
      ]
    },
    {
      "cell_type": "markdown",
      "source": [
        "We can visualize the computation graph by calling the `make_dot` function from `torchviz`. There are\n",
        "\n",
        "* 2 Addition Operations\n",
        "* 1 Power Operation\n",
        "* 1 Multiply Operation\n",
        "* 1 Accumulate Operation"
      ],
      "metadata": {
        "id": "s093jZJ4S71V"
      }
    },
    {
      "cell_type": "code",
      "source": [
        "make_dot(y)"
      ],
      "metadata": {
        "colab": {
          "base_uri": "https://localhost:8080/",
          "height": 456
        },
        "id": "Cx_US-opS8Tt",
        "outputId": "a15fa14c-bbe6-4d16-918d-abfa0ae3bd83"
      },
      "execution_count": null,
      "outputs": [
        {
          "output_type": "execute_result",
          "data": {
            "image/svg+xml": "<?xml version=\"1.0\" encoding=\"UTF-8\" standalone=\"no\"?>\n<!DOCTYPE svg PUBLIC \"-//W3C//DTD SVG 1.1//EN\"\n \"http://www.w3.org/Graphics/SVG/1.1/DTD/svg11.dtd\">\n<!-- Generated by graphviz version 2.43.0 (0)\n -->\n<!-- Title: %3 Pages: 1 -->\n<svg width=\"204pt\" height=\"326pt\"\n viewBox=\"0.00 0.00 204.00 326.00\" xmlns=\"http://www.w3.org/2000/svg\" xmlns:xlink=\"http://www.w3.org/1999/xlink\">\n<g id=\"graph0\" class=\"graph\" transform=\"scale(1 1) rotate(0) translate(4 322)\">\n<title>%3</title>\n<polygon fill=\"white\" stroke=\"transparent\" points=\"-4,4 -4,-322 200,-322 200,4 -4,4\"/>\n<!-- 138397146030752 -->\n<g id=\"node1\" class=\"node\">\n<title>138397146030752</title>\n<polygon fill=\"#caff70\" stroke=\"black\" points=\"124.5,-31 70.5,-31 70.5,0 124.5,0 124.5,-31\"/>\n<text text-anchor=\"middle\" x=\"97.5\" y=\"-7\" font-family=\"monospace\" font-size=\"10.00\"> (1)</text>\n</g>\n<!-- 138393305104688 -->\n<g id=\"node2\" class=\"node\">\n<title>138393305104688</title>\n<polygon fill=\"lightgrey\" stroke=\"black\" points=\"142,-86 53,-86 53,-67 142,-67 142,-86\"/>\n<text text-anchor=\"middle\" x=\"97.5\" y=\"-74\" font-family=\"monospace\" font-size=\"10.00\">AddBackward0</text>\n</g>\n<!-- 138393305104688&#45;&gt;138397146030752 -->\n<g id=\"edge7\" class=\"edge\">\n<title>138393305104688&#45;&gt;138397146030752</title>\n<path fill=\"none\" stroke=\"black\" d=\"M97.5,-66.79C97.5,-60.07 97.5,-50.4 97.5,-41.34\"/>\n<polygon fill=\"black\" stroke=\"black\" points=\"101,-41.19 97.5,-31.19 94,-41.19 101,-41.19\"/>\n</g>\n<!-- 138393305104928 -->\n<g id=\"node3\" class=\"node\">\n<title>138393305104928</title>\n<polygon fill=\"lightgrey\" stroke=\"black\" points=\"142,-141 53,-141 53,-122 142,-122 142,-141\"/>\n<text text-anchor=\"middle\" x=\"97.5\" y=\"-129\" font-family=\"monospace\" font-size=\"10.00\">AddBackward0</text>\n</g>\n<!-- 138393305104928&#45;&gt;138393305104688 -->\n<g id=\"edge1\" class=\"edge\">\n<title>138393305104928&#45;&gt;138393305104688</title>\n<path fill=\"none\" stroke=\"black\" d=\"M97.5,-121.75C97.5,-114.8 97.5,-104.85 97.5,-96.13\"/>\n<polygon fill=\"black\" stroke=\"black\" points=\"101,-96.09 97.5,-86.09 94,-96.09 101,-96.09\"/>\n</g>\n<!-- 138393305107472 -->\n<g id=\"node4\" class=\"node\">\n<title>138393305107472</title>\n<polygon fill=\"lightgrey\" stroke=\"black\" points=\"89,-196 0,-196 0,-177 89,-177 89,-196\"/>\n<text text-anchor=\"middle\" x=\"44.5\" y=\"-184\" font-family=\"monospace\" font-size=\"10.00\">PowBackward0</text>\n</g>\n<!-- 138393305107472&#45;&gt;138393305104928 -->\n<g id=\"edge2\" class=\"edge\">\n<title>138393305107472&#45;&gt;138393305104928</title>\n<path fill=\"none\" stroke=\"black\" d=\"M53.25,-176.75C60.97,-169.03 72.4,-157.6 81.72,-148.28\"/>\n<polygon fill=\"black\" stroke=\"black\" points=\"84.31,-150.64 88.91,-141.09 79.36,-145.69 84.31,-150.64\"/>\n</g>\n<!-- 138393305105120 -->\n<g id=\"node5\" class=\"node\">\n<title>138393305105120</title>\n<polygon fill=\"lightgrey\" stroke=\"black\" points=\"148,-251 47,-251 47,-232 148,-232 148,-251\"/>\n<text text-anchor=\"middle\" x=\"97.5\" y=\"-239\" font-family=\"monospace\" font-size=\"10.00\">AccumulateGrad</text>\n</g>\n<!-- 138393305105120&#45;&gt;138393305107472 -->\n<g id=\"edge3\" class=\"edge\">\n<title>138393305105120&#45;&gt;138393305107472</title>\n<path fill=\"none\" stroke=\"black\" d=\"M88.75,-231.75C81.03,-224.03 69.6,-212.6 60.28,-203.28\"/>\n<polygon fill=\"black\" stroke=\"black\" points=\"62.64,-200.69 53.09,-196.09 57.69,-205.64 62.64,-200.69\"/>\n</g>\n<!-- 138393305104976 -->\n<g id=\"node7\" class=\"node\">\n<title>138393305104976</title>\n<polygon fill=\"lightgrey\" stroke=\"black\" points=\"196,-196 107,-196 107,-177 196,-177 196,-196\"/>\n<text text-anchor=\"middle\" x=\"151.5\" y=\"-184\" font-family=\"monospace\" font-size=\"10.00\">MulBackward0</text>\n</g>\n<!-- 138393305105120&#45;&gt;138393305104976 -->\n<g id=\"edge6\" class=\"edge\">\n<title>138393305105120&#45;&gt;138393305104976</title>\n<path fill=\"none\" stroke=\"black\" d=\"M106.42,-231.75C114.28,-224.03 125.93,-212.6 135.42,-203.28\"/>\n<polygon fill=\"black\" stroke=\"black\" points=\"138.06,-205.59 142.75,-196.09 133.16,-200.6 138.06,-205.59\"/>\n</g>\n<!-- 138393304905616 -->\n<g id=\"node6\" class=\"node\">\n<title>138393304905616</title>\n<polygon fill=\"lightblue\" stroke=\"black\" points=\"124.5,-318 70.5,-318 70.5,-287 124.5,-287 124.5,-318\"/>\n<text text-anchor=\"middle\" x=\"97.5\" y=\"-294\" font-family=\"monospace\" font-size=\"10.00\"> (1)</text>\n</g>\n<!-- 138393304905616&#45;&gt;138393305105120 -->\n<g id=\"edge4\" class=\"edge\">\n<title>138393304905616&#45;&gt;138393305105120</title>\n<path fill=\"none\" stroke=\"black\" d=\"M97.5,-286.92C97.5,-279.22 97.5,-269.69 97.5,-261.43\"/>\n<polygon fill=\"black\" stroke=\"black\" points=\"101,-261.25 97.5,-251.25 94,-261.25 101,-261.25\"/>\n</g>\n<!-- 138393305104976&#45;&gt;138393305104928 -->\n<g id=\"edge5\" class=\"edge\">\n<title>138393305104976&#45;&gt;138393305104928</title>\n<path fill=\"none\" stroke=\"black\" d=\"M142.58,-176.75C134.72,-169.03 123.07,-157.6 113.58,-148.28\"/>\n<polygon fill=\"black\" stroke=\"black\" points=\"115.84,-145.6 106.25,-141.09 110.94,-150.59 115.84,-145.6\"/>\n</g>\n</g>\n</svg>\n",
            "text/plain": [
              "<graphviz.graphs.Digraph at 0x7dde33ca44c0>"
            ]
          },
          "metadata": {},
          "execution_count": 5
        }
      ]
    },
    {
      "cell_type": "markdown",
      "source": [
        "If we instead evaluate $$\\frac{d}{dx}\\bigg\\rvert_{x=5} f(x) = 2(5) + 2 = 12$$"
      ],
      "metadata": {
        "id": "tep1rde7TW5e"
      }
    },
    {
      "cell_type": "code",
      "source": [
        "np_x = np.array([5.0])\n",
        "x = torch.from_numpy(np_x).requires_grad_(True) # Need to set requires_grad to True\n",
        "y = f(x)\n",
        "\n",
        "y.backward()\n",
        "\n",
        "print(x.grad)  # This will print the gradient dy/dx at x = 5.0"
      ],
      "metadata": {
        "colab": {
          "base_uri": "https://localhost:8080/"
        },
        "id": "BX63C2lDTWZL",
        "outputId": "8041dce0-924d-4d91-b0dc-542427a74c9b"
      },
      "execution_count": null,
      "outputs": [
        {
          "output_type": "stream",
          "name": "stdout",
          "text": [
            "tensor([12.], dtype=torch.float64)\n"
          ]
        }
      ]
    },
    {
      "cell_type": "markdown",
      "source": [
        "## MNIST dataset classification using Neural Networks\n",
        "\n",
        "This program will download the [MNIST dataset](https://en.wikipedia.org/wiki/MNIST_database), create a simple feedforward neural network with one hidden layer, train it for 5 epochs, and then test its accuracy on the test set. The neural network architecture used here is just a basic example, and many enhancements can be made for improving the performance.\n",
        "\n",
        "Input layer: 28x28 = 784 neurons (matching the size of a flattened MNIST image)\n",
        "\n",
        "One hidden layer: 500 neurons (as specified by the hidden_size variable)\n",
        "\n",
        "Output layer: 10 neurons (one for each digit from 0 to 9)\n",
        "\n",
        "MNIST training dataset, which consists of 60,000 images. When a batch_size of 100 is used, meaning each batch will contain 100 images.\n",
        "\n",
        "When using torchvision.datasets.MNIST, the training set is split into 60,000 samples, and the test set is split into 10,000 samples by default based on the train argument. If train=True, it fetches the training data, and if train=False, it fetches the test data."
      ],
      "metadata": {
        "id": "daCtWRM4Lqdx"
      }
    },
    {
      "cell_type": "code",
      "execution_count": null,
      "metadata": {
        "colab": {
          "base_uri": "https://localhost:8080/"
        },
        "id": "NU9Hwt2sJEyk",
        "outputId": "d2293e9f-1514-4536-bfe5-f0a7085547da"
      },
      "outputs": [
        {
          "output_type": "stream",
          "name": "stdout",
          "text": [
            "Downloading http://yann.lecun.com/exdb/mnist/train-images-idx3-ubyte.gz\n",
            "Downloading http://yann.lecun.com/exdb/mnist/train-images-idx3-ubyte.gz to ./data/MNIST/raw/train-images-idx3-ubyte.gz\n"
          ]
        },
        {
          "output_type": "stream",
          "name": "stderr",
          "text": [
            "100%|██████████| 9912422/9912422 [00:00<00:00, 87834030.31it/s]"
          ]
        },
        {
          "output_type": "stream",
          "name": "stdout",
          "text": [
            "Extracting ./data/MNIST/raw/train-images-idx3-ubyte.gz to ./data/MNIST/raw\n"
          ]
        },
        {
          "output_type": "stream",
          "name": "stderr",
          "text": [
            "\n"
          ]
        },
        {
          "output_type": "stream",
          "name": "stdout",
          "text": [
            "\n",
            "Downloading http://yann.lecun.com/exdb/mnist/train-labels-idx1-ubyte.gz\n",
            "Downloading http://yann.lecun.com/exdb/mnist/train-labels-idx1-ubyte.gz to ./data/MNIST/raw/train-labels-idx1-ubyte.gz\n"
          ]
        },
        {
          "output_type": "stream",
          "name": "stderr",
          "text": [
            "100%|██████████| 28881/28881 [00:00<00:00, 39807983.51it/s]\n"
          ]
        },
        {
          "output_type": "stream",
          "name": "stdout",
          "text": [
            "Extracting ./data/MNIST/raw/train-labels-idx1-ubyte.gz to ./data/MNIST/raw\n",
            "\n",
            "Downloading http://yann.lecun.com/exdb/mnist/t10k-images-idx3-ubyte.gz\n",
            "Downloading http://yann.lecun.com/exdb/mnist/t10k-images-idx3-ubyte.gz to ./data/MNIST/raw/t10k-images-idx3-ubyte.gz\n"
          ]
        },
        {
          "output_type": "stream",
          "name": "stderr",
          "text": [
            "100%|██████████| 1648877/1648877 [00:00<00:00, 30760125.95it/s]\n"
          ]
        },
        {
          "output_type": "stream",
          "name": "stdout",
          "text": [
            "Extracting ./data/MNIST/raw/t10k-images-idx3-ubyte.gz to ./data/MNIST/raw\n",
            "\n",
            "Downloading http://yann.lecun.com/exdb/mnist/t10k-labels-idx1-ubyte.gz\n",
            "Downloading http://yann.lecun.com/exdb/mnist/t10k-labels-idx1-ubyte.gz to ./data/MNIST/raw/t10k-labels-idx1-ubyte.gz\n"
          ]
        },
        {
          "output_type": "stream",
          "name": "stderr",
          "text": [
            "100%|██████████| 4542/4542 [00:00<00:00, 6401387.35it/s]\n"
          ]
        },
        {
          "output_type": "stream",
          "name": "stdout",
          "text": [
            "Extracting ./data/MNIST/raw/t10k-labels-idx1-ubyte.gz to ./data/MNIST/raw\n",
            "\n",
            "Dataset MNIST\n",
            "    Number of datapoints: 60000\n",
            "    Root location: ./data\n",
            "    Split: Train\n",
            "    StandardTransform\n",
            "Transform: Compose(\n",
            "               ToTensor()\n",
            "               Normalize(mean=(0.5,), std=(0.5,))\n",
            "           )\n"
          ]
        }
      ],
      "source": [
        "# Define hyperparameters\n",
        "input_size = 28*28  # Size of image (28x28 pixels for MNIST)\n",
        "hidden_size = 500   # Size of hidden layer ( a single hidden layer with 500 neurons)\n",
        "num_classes = 10    # Number of output classes (0-9 for MNIST)\n",
        "num_epochs = 5      # Number of times the entire dataset is processed\n",
        "batch_size = 100    # Number of samples per gradient update (for SGD)\n",
        "learning_rate = 0.001\n",
        "\n",
        "# Download the MNIST dataset for training, store it in the 'data' directory, and apply a transform that\n",
        "# converts images into tensors.\n",
        "\n",
        "# Define data transformations and normalization for MNIST dataset\n",
        "transform = transforms.Compose([transforms.ToTensor(), transforms.Normalize((0.5,), (0.5,))])\n",
        "\n",
        "# Load the MNIST dataset\n",
        "train_dataset = torchvision.datasets.MNIST(root='./data', train=True, transform=transform, download=True)\n",
        "test_dataset = torchvision.datasets.MNIST(root='./data', train=False, transform=transform)\n",
        "\n",
        "# Create data loaders for batching (100) and shuffling the datasets\n",
        "train_loader = torch.utils.data.DataLoader(dataset=train_dataset, batch_size=batch_size, shuffle=True)\n",
        "test_loader = torch.utils.data.DataLoader(dataset=test_dataset, batch_size=batch_size, shuffle=False)\n",
        "\n",
        "print(train_dataset) # Print the representation of the train_loader object\n"
      ]
    },
    {
      "cell_type": "markdown",
      "source": [
        "We can easily visualize the images and their corresponding label as below. See how index 0 for a given sample corresponds to the image, and index 1 is the label. Each image is represented as a vector of 28 × 28 = 784 pixel values."
      ],
      "metadata": {
        "id": "Nwlc-E6MbvCY"
      }
    },
    {
      "cell_type": "code",
      "source": [
        "# Define a list of indices for which we want to visualize the corresponding MNIST images.\n",
        "indices = [1, 12000, 344] # three instances - labels: 0, 7, 9\n",
        "\n",
        "# for showing the figure with a specified size\n",
        "fig = plt.figure(figsize=(len(indices) * 3, 3))\n",
        "\n",
        "# Loop over each index in the 'indices' list.\n",
        "for i, index in enumerate(indices):\n",
        "    # For each index, add a new subplot to the figure.\n",
        "    ax = fig.add_subplot(1, len(indices), i + 1)\n",
        "\n",
        "    # Fetch the MNIST example (image and label) for the given index.\n",
        "    example = train_dataset[index]\n",
        "\n",
        "    # Display the image in the current subplot.\n",
        "    # 'example[0]' is the image which we reshape from its tensor form to a 28x28 numpy array.\n",
        "    # And specify the colormap to be grayscale.\n",
        "    ax.imshow(example[0].reshape(28, 28), cmap=plt.cm.gray)\n",
        "\n",
        "    # Set the title of the current subplot to the label of the image.\n",
        "    ax.set_title(\"Label: {}\".format(example[1]))"
      ],
      "metadata": {
        "colab": {
          "base_uri": "https://localhost:8080/",
          "height": 288
        },
        "id": "5b2Ak9bGbw40",
        "outputId": "6e73232d-997a-41ea-cfc7-4b0910ed5015"
      },
      "execution_count": null,
      "outputs": [
        {
          "output_type": "display_data",
          "data": {
            "text/plain": [
              "<Figure size 900x300 with 3 Axes>"
            ],
            "image/png": "[encoded data removed]"
          },
          "metadata": {}
        }
      ]
    },
    {
      "cell_type": "markdown",
      "source": [
        "## Training"
      ],
      "metadata": {
        "id": "o8HMb565cBvM"
      }
    },
    {
      "cell_type": "code",
      "source": [
        "# Check if a GPU is available and set the device accordingly.\n",
        "if torch.cuda.is_available():\n",
        "    print(\"Using cuda\")\n",
        "    use_cuda = True\n",
        "    device = torch.device(\"cuda\")\n",
        "else:\n",
        "    device = \"cpu\"\n",
        "\n",
        "# Define the neural network architecture\n",
        "# 2-layer MLP: 1 hidden layer with ReLu + 1 output layer\n",
        "class Net(nn.Module):\n",
        "    def __init__(self, input_size, hidden_size, num_classes):\n",
        "        super(Net, self).__init__()\n",
        "        # PyTorch will automatically initializes the weights and biases with requires_grad=True when using nn.Linear\n",
        "        # Fully connected layer from input to hidden layer\n",
        "        self.fc1 = nn.Linear(input_size, hidden_size) # input size = 28*28 = 1024, hidden layer = 500\n",
        "        # Activation function: ReLU (Rectified Linear Unit)\n",
        "        self.relu = nn.ReLU()\n",
        "        # Fully connected layer from hidden layer to output\n",
        "        self.fc2 = nn.Linear(hidden_size, num_classes)\n",
        "\n",
        "    def forward(self, x):\n",
        "        # Pass input through first fully connected layer and then apply ReLU activation\n",
        "        # out : z\n",
        "        out = self.fc1(x)\n",
        "        out = self.relu(out)\n",
        "        # Pass the result through the second fully connected layer\n",
        "        out = self.fc2(out)\n",
        "        return out\n",
        "\n",
        "# Create an instance of the neural network model\n",
        "model = Net(input_size, hidden_size, num_classes)\n",
        "\n",
        "# Define the loss function (Cross Entropy Loss for multivariate classification problems)\n",
        "criterion = nn.CrossEntropyLoss()\n",
        "# Define the optimizer (Stochastic Gradient Descent with momentum)\n",
        "# momentum: helps to accelerate convergence by using past gradients to keep the optimization moving in the same direction.\n",
        "optimizer = optim.SGD(model.parameters(), lr=learning_rate, momentum=0.9)\n",
        "\n",
        "# Lists to track progress\n",
        "train_losses = []\n",
        "test_losses = []\n",
        "test_accuracies = []\n",
        "\n",
        "# Train the model\n",
        "for epoch in range(num_epochs):\n",
        "\n",
        "    for i, (images, labels) in enumerate(train_loader): # loading from the train dataset\n",
        "        # Flatten the images into 1D vectors from 2D\n",
        "        images = images.view(-1, 28*28)\n",
        "\n",
        "        # start the training\n",
        "        optimizer.zero_grad() # Clears the gradients from the previous batch to ensure gradients from previous batches do not accumulate.\n",
        "        outputs = model(images) # Forward Pass: The input images are passed through the network to get the predicted outputs.\n",
        "        loss = criterion(outputs, labels) # Cross Entropy Loss\n",
        "        loss.backward() # Computes the gradients of the loss with respect to each weight and bias in the network (backpropagation)\n",
        "        optimizer.step() # Updates the weights and bises using SGD\n",
        "\n",
        "        # Print loss statistics every 100 batches\n",
        "        if (i+1) % 100 == 0:\n",
        "            print ('Epoch: [{}/{}], Step: [{}/{}], Loss: {:.4f}'.format(epoch+1, num_epochs, i+1, len(train_loader), loss.item()))\n",
        "\n",
        "    # Track training loss after each epoch\n",
        "    train_losses.append(loss.item())"
      ],
      "metadata": {
        "colab": {
          "base_uri": "https://localhost:8080/"
        },
        "id": "UqeBB7z8brG8",
        "outputId": "ad01c78f-1883-4dcb-e4ad-0c3a0b371d62"
      },
      "execution_count": null,
      "outputs": [
        {
          "output_type": "stream",
          "name": "stdout",
          "text": [
            "Using cuda\n",
            "Epoch: [1/5], Step: [100/600], Loss: 1.4692\n",
            "Epoch: [1/5], Step: [200/600], Loss: 0.8713\n",
            "Epoch: [1/5], Step: [300/600], Loss: 0.7824\n",
            "Epoch: [1/5], Step: [400/600], Loss: 0.5451\n",
            "Epoch: [1/5], Step: [500/600], Loss: 0.5584\n",
            "Epoch: [1/5], Step: [600/600], Loss: 0.4036\n",
            "Epoch: [2/5], Step: [100/600], Loss: 0.4039\n",
            "Epoch: [2/5], Step: [200/600], Loss: 0.5249\n",
            "Epoch: [2/5], Step: [300/600], Loss: 0.3536\n",
            "Epoch: [2/5], Step: [400/600], Loss: 0.3321\n",
            "Epoch: [2/5], Step: [500/600], Loss: 0.3535\n",
            "Epoch: [2/5], Step: [600/600], Loss: 0.2947\n",
            "Epoch: [3/5], Step: [100/600], Loss: 0.4119\n",
            "Epoch: [3/5], Step: [200/600], Loss: 0.2517\n",
            "Epoch: [3/5], Step: [300/600], Loss: 0.3310\n",
            "Epoch: [3/5], Step: [400/600], Loss: 0.3828\n",
            "Epoch: [3/5], Step: [500/600], Loss: 0.5345\n",
            "Epoch: [3/5], Step: [600/600], Loss: 0.2530\n",
            "Epoch: [4/5], Step: [100/600], Loss: 0.2576\n",
            "Epoch: [4/5], Step: [200/600], Loss: 0.4453\n",
            "Epoch: [4/5], Step: [300/600], Loss: 0.4671\n",
            "Epoch: [4/5], Step: [400/600], Loss: 0.2608\n",
            "Epoch: [4/5], Step: [500/600], Loss: 0.2803\n",
            "Epoch: [4/5], Step: [600/600], Loss: 0.3912\n",
            "Epoch: [5/5], Step: [100/600], Loss: 0.2409\n",
            "Epoch: [5/5], Step: [200/600], Loss: 0.2736\n",
            "Epoch: [5/5], Step: [300/600], Loss: 0.2944\n",
            "Epoch: [5/5], Step: [400/600], Loss: 0.2740\n",
            "Epoch: [5/5], Step: [500/600], Loss: 0.2588\n",
            "Epoch: [5/5], Step: [600/600], Loss: 0.3035\n"
          ]
        }
      ]
    },
    {
      "cell_type": "markdown",
      "source": [
        "## Evaluate the trained model on test data"
      ],
      "metadata": {
        "id": "-7-h1sU5cGsH"
      }
    },
    {
      "cell_type": "code",
      "source": [
        "\n",
        "# Begin evaluation phase for the trained model on test data\n",
        "correct = 0   # Initialize counter for correct predictions\n",
        "total = 0     # Initialize counter for total number of images tested\n",
        "\n",
        "# Lists to store true labels and model predictions for all test images\n",
        "all_labels = []\n",
        "all_predictions = []\n",
        "\n",
        "# torch.no_grad() ensures that operations inside this context won't track gradients.\n",
        "# This is useful when evaluating a model because we don't need gradients computation during inference.\n",
        "with torch.no_grad():\n",
        "\n",
        "    for images, labels in test_loader: # loading from the test dataset 10000\n",
        "        # Reshape the images into a 1D vector to be compatible with the model input\n",
        "        images = images.view(-1, 28*28)\n",
        "\n",
        "        # Pass images through the model to get predicted outputs\n",
        "        outputs = model(images)\n",
        "\n",
        "        # Determine the class with the highest predicted score\n",
        "        _, predicted = torch.max(outputs.data, 1)\n",
        "\n",
        "        # Update the total count and the count of correct predictions\n",
        "        total += labels.size(0)\n",
        "        correct += (predicted == labels).sum().item()\n",
        "\n",
        "        # Store true labels and predicted labels for this batch\n",
        "        all_labels.extend(labels.numpy())\n",
        "        all_predictions.extend(predicted.numpy())\n",
        "\n",
        "# Print overall accuracy of the model on test data\n",
        "print('\\nAccuracy of the network on the 10000 test images: {} %\\n'.format(100 * correct / total))\n",
        "\n",
        "# Use scikit-learn's classification report to get detailed metrics like precision, recall, etc.\n",
        "# The report provides these metrics for each class and averages.\n",
        "print(classification_report(all_labels, all_predictions, target_names=[str(i) for i in range(10)]))"
      ],
      "metadata": {
        "colab": {
          "base_uri": "https://localhost:8080/"
        },
        "id": "dwzKDdKLQEez",
        "outputId": "a452a132-776a-41d3-932e-9ec71d4355b4"
      },
      "execution_count": null,
      "outputs": [
        {
          "output_type": "stream",
          "name": "stdout",
          "text": [
            "\n",
            "Accuracy of the network on the 10000 test images: 92.14 %\n",
            "\n",
            "              precision    recall  f1-score   support\n",
            "\n",
            "           0       0.94      0.98      0.96       980\n",
            "           1       0.97      0.97      0.97      1135\n",
            "           2       0.93      0.89      0.91      1032\n",
            "           3       0.91      0.90      0.91      1010\n",
            "           4       0.91      0.93      0.92       982\n",
            "           5       0.90      0.87      0.89       892\n",
            "           6       0.93      0.94      0.94       958\n",
            "           7       0.93      0.92      0.93      1028\n",
            "           8       0.87      0.90      0.89       974\n",
            "           9       0.90      0.90      0.90      1009\n",
            "\n",
            "    accuracy                           0.92     10000\n",
            "   macro avg       0.92      0.92      0.92     10000\n",
            "weighted avg       0.92      0.92      0.92     10000\n",
            "\n"
          ]
        }
      ]
    },
    {
      "cell_type": "markdown",
      "source": [],
      "metadata": {
        "id": "udsWvHxxLpef"
      }
    },
    {
      "cell_type": "markdown",
      "source": [
        "# Visualize the classification weights after training"
      ],
      "metadata": {
        "id": "pP-8fPcFQPRc"
      }
    },
    {
      "cell_type": "code",
      "source": [
        "# Get the weights of the first fully connected layer (from input to hidden layer)\n",
        "weights = model.fc1.weight.data\n",
        "\n",
        "# Create a 2x5 grid of subplots for visualizing the weights for each class (0 to 9)\n",
        "fig, axarr = plt.subplots(2, 5, figsize=(8, 6))\n",
        "\n",
        "# Iterate over all classes (from 0 to 9)\n",
        "for idx in range(10):\n",
        "    # Select the appropriate subplot for the current class\n",
        "    ax = axarr[idx // 5, idx % 5]\n",
        "\n",
        "    # Combine the weights from the first layer with the weights connecting the hidden layer to the current class\n",
        "    # This provides a higher-level view of the learned patterns for the current class\n",
        "    class_weights = torch.matmul(model.fc2.weight[idx], weights)\n",
        "\n",
        "    # Visualize the computed weights for the current class as a 28x28 image\n",
        "    ax.imshow(class_weights.view(28, 28).detach().numpy(), cmap=\"gray\")\n",
        "\n",
        "    # Turn off axis to have a cleaner visualization\n",
        "    ax.axis('off')\n",
        "\n",
        "    # Set title to indicate which class is being visualized\n",
        "    ax.set_title(f'Class {idx}')\n",
        "\n",
        "# Adjust spacing between subplots for better visualization\n",
        "plt.tight_layout()\n",
        "\n",
        "# Display the visualizations\n",
        "plt.show()"
      ],
      "metadata": {
        "colab": {
          "base_uri": "https://localhost:8080/",
          "height": 453
        },
        "id": "ggcp24xzLRSw",
        "outputId": "1b23e211-36f6-4326-9ad4-b41b7f313ab3"
      },
      "execution_count": null,
      "outputs": [
        {
          "output_type": "display_data",
          "data": {
            "text/plain": [
              "<Figure size 800x600 with 10 Axes>"
            ],
            "image/png": "[encoded data removed]"
          },
          "metadata": {}
        }
      ]
    }
  ]
}